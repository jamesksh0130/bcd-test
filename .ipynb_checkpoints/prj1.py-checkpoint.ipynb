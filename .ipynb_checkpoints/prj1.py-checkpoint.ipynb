{
 "cells": [
  {
   "cell_type": "code",
   "execution_count": 1,
   "id": "c4cc640a",
   "metadata": {},
   "outputs": [
    {
     "name": "stdout",
     "output_type": "stream",
     "text": [
      "country           sex\n",
      "Afghanistan       m      2094.500000\n",
      "Algeria           m      1942.495000\n",
      "Angola            m      1662.635000\n",
      "Antarctica (Arg)  m      1383.600000\n",
      "Argentina         f      1558.206000\n",
      "                            ...     \n",
      "Uruguay           m      1856.390000\n",
      "Vanuatu           m      1578.340000\n",
      "Venezuela         m      1917.013333\n",
      "Yemen             f      1838.900000\n",
      "                  m      1968.048333\n",
      "Name: salary, Length: 178, dtype: float64\n"
     ]
    }
   ],
   "source": [
    "import pandas as pd\n",
    "\n",
    "df = pd.read_csv('employee.csv')\n",
    "average_salary = df.groupby([\"country\", \"sex\"])[\"salary\"].mean()\n",
    "\n",
    "print(average_salary)\n"
   ]
  },
  {
   "cell_type": "code",
   "execution_count": null,
   "id": "84e1f38a",
   "metadata": {},
   "outputs": [],
   "source": []
  }
 ],
 "metadata": {
  "kernelspec": {
   "display_name": "Python 3 (ipykernel)",
   "language": "python",
   "name": "python3"
  },
  "language_info": {
   "codemirror_mode": {
    "name": "ipython",
    "version": 3
   },
   "file_extension": ".py",
   "mimetype": "text/x-python",
   "name": "python",
   "nbconvert_exporter": "python",
   "pygments_lexer": "ipython3",
   "version": "3.11.5"
  }
 },
 "nbformat": 4,
 "nbformat_minor": 5
}
